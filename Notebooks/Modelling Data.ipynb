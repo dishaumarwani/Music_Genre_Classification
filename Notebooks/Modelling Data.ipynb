{
 "cells": [
  {
   "cell_type": "code",
   "execution_count": null,
   "metadata": {
    "collapsed": true
   },
   "outputs": [],
   "source": [
    "import pandas as pd\n",
    "import numpy as np"
   ]
  },
  {
   "cell_type": "code",
   "execution_count": null,
   "metadata": {
    "collapsed": true
   },
   "outputs": [],
   "source": [
    "#split the data into test and train \n",
    "#use the file feature_engineered.csv\n",
    "from sklearn.model_selection import train_test_split\n"
   ]
  },
  {
   "cell_type": "code",
   "execution_count": null,
   "metadata": {
    "collapsed": true
   },
   "outputs": [],
   "source": [
    "def modAUClogReg(X_train, Y_train, X_test, Y_test):\n",
    "    '''\n",
    "    trains a linear regression model on train set and returns AUC on test set\n",
    "    '''\n",
    "    #Using Scikit-learn the logistic regression model is built with two easy steps.\n",
    "    clf_LogReg = LogisticRegression(C = 1e30)\n",
    "    clf_LogReg.fit(X_train, Y_train)\n",
    "    Y_pred_lg = clf_LogReg.predict_proba(X_test)[:,1]\n",
    "    fpr_lg, tpr_lg, thresholds_lg = roc_curve(Y_test, Y_pred_lg, drop_intermediate = True)\n",
    "    return fpr_lg, tpr_lg, thresholds_lg\n",
    "\n",
    "#fpr_lg, tpr_lg, thresholds_lg = modAUClogReg(X_train, Y_train, X_test, Y_test)\n",
    "#roc_auc_lg = auc(fpr_lg, tpr_lg)"
   ]
  },
  {
   "cell_type": "code",
   "execution_count": null,
   "metadata": {
    "collapsed": true
   },
   "outputs": [],
   "source": [
    "def modAUCSVC(X_train, Y_train, X_test, Y_test):\n",
    "    '''\n",
    "    trains a SVC on train set and returns AUC on test set\n",
    "    '''\n",
    "    clf_SVC = SVC(kernel = \"linear\", probability = True)\n",
    "    clf_SVC.fit(X_train, Y_train)\n",
    "    Y_pred_SVC = clf_SVC.predict_proba(X_test)[:,1]\n",
    "    fpr_svc, tpr_svc, thresholds_svc = roc_curve(Y_test, Y_pred_SVC)\n",
    "    roc_auc_svc = auc(fpr_svc, tpr_svc)\n",
    "    return fpr_svc, tpr_svc, thresholds_svc, roc_auc_svc\n",
    "#fpr_svc, tpr_svc, thresholds_svc, roc_auc_svc = modAUCSVC(X_train, Y_train, X_test, Y_test)\n",
    "#roc_auc_svc = auc(fpr_svc, tpr_lg)"
   ]
  },
  {
   "cell_type": "code",
   "execution_count": null,
   "metadata": {
    "collapsed": true
   },
   "outputs": [],
   "source": []
  },
  {
   "cell_type": "code",
   "execution_count": null,
   "metadata": {
    "collapsed": true
   },
   "outputs": [],
   "source": [
    "#import staments making our work easier\n",
    "from matplotlib import pyplot as plt\n",
    "#ploting of the curves\n",
    "plt.title('Receiver Operating Characteristic')\n",
    "\n",
    "plt.plot(fpr_lg, tpr_lg, 'b', label = 'AUC Log Reg = %0.2f' % roc_auc_lg)\n",
    "\n",
    "plt.plot(fpr_svc,tpr_svc,'g',label ='AUC SVM = %0.2f' %roc_auc_svc)\n",
    "\n",
    "plt.legend(loc = 'lower right')\n",
    "plt.plot([0, 1], [0, 1],'r--')\n",
    "plt.xlim([0, 1])\n",
    "plt.ylim([0, 1])\n",
    "plt.ylabel('True Positive Rate')\n",
    "plt.xlabel('False Positive Rate')\n",
    "\n",
    "\n",
    "\n",
    "ax2 = plt.gca().twinx()\n",
    "ax2.plot(fpr_lg, thresholds_lg, markeredgecolor='r', color='r')\n",
    "ax2.set_ylabel('Threshold',color='r')\n",
    "ax2.set_ylim([thresholds_lg[-1],thresholds_lg[0]])\n",
    "ax2.set_xlim([fpr_lg[0],fpr_lg[-1]])\n",
    "\n",
    "plt.show()"
   ]
  },
  {
   "cell_type": "code",
   "execution_count": null,
   "metadata": {
    "collapsed": true
   },
   "outputs": [],
   "source": [
    "def xValSVM(dataset, label_name, k, cs):\n",
    "    \n",
    "    #initialize a dictionary for storing auc scores\n",
    "    aucs = dict()\n",
    "    \n",
    "    #Get the indices for kfold cross validation\n",
    "    kf = KFold(n_splits=k, shuffle = True)\n",
    "    train_indices = list()\n",
    "    test_indices = list()\n",
    "    \n",
    "    #initialize a dictionary to store values with respect to c different values of k\n",
    "    for c in cs:\n",
    "        aucs[c] = list()\n",
    "             \n",
    "    for train_index, test_index in kf.split(dataset):\n",
    "        train_indices.append(train_index)\n",
    "        test_indices.append(test_index)\n",
    "    #print(test_indices, train_indices)\n",
    "    \n",
    "    #perform KFold for different values of c\n",
    "    for f in range(k):\n",
    "        \n",
    "        train_index = list(train_indices[f])\n",
    "        test_index = list(test_indices[f])\n",
    "        X_train = dataset.iloc[train_index].drop(target,1)\n",
    "        Y_train = dataset.iloc[train_index][target]\n",
    "        \n",
    "        X_test = dataset.iloc[test_index].drop(target,1)\n",
    "        Y_test = dataset.iloc[test_index][target]\n",
    "        \n",
    "        for c in cs:\n",
    "            SVMCrss = SVC(C = c , kernel = \"linear\",probability = True)\n",
    "            SVMCrss.fit(X_train, Y_train)\n",
    "            pred = SVMCrss.predict_proba(X_test)[:,1]\n",
    "            fpr,tpr,threshold = roc_curve(Y_test, pred)\n",
    "            roc_auc = auc(fpr, tpr)\n",
    "            aucs[c].append(roc_auc)\n",
    "        \n",
    "    return aucs"
   ]
  },
  {
   "cell_type": "code",
   "execution_count": null,
   "metadata": {
    "collapsed": true
   },
   "outputs": [],
   "source": [
    "stats = dict()\n",
    "#Intialize a dictionary for storing statistics, though it is not a very good idea when you have a lot of keys\n",
    "for c in C:\n",
    "    stats[c] = list()\n",
    "maximum = 0\n",
    "for c in C:\n",
    "    #First value with respect to a key is mean\n",
    "    stats[c].append(np.mean(aucs[c]))\n",
    "    #Second value with respect to a key is standard deviation\n",
    "    stats[c].append(np.std(aucs[c]))\n",
    "    #Second value with respect to a key is mean - standard deviation\n",
    "    stats[c].append(stats[c][0]-stats[c][1])\n",
    "    ##Third value with respect to a key is mean + standard deviation\n",
    "    stats[c].append(stats[c][0]+stats[c][1])\n",
    "    #Find the maximum mean - standard deviation\n",
    "    if(maximum < stats[c][2]):\n",
    "        maximum = stats[c][2]\n",
    "        VariableC = c\n",
    "print(\"The value of maximum mean - stderror is\",maximum )\n",
    "print(\"The value of C corresponding to this is\", VariableC)"
   ]
  }
 ],
 "metadata": {
  "kernelspec": {
   "display_name": "Python 3",
   "language": "python",
   "name": "python3"
  },
  "language_info": {
   "codemirror_mode": {
    "name": "ipython",
    "version": 3
   },
   "file_extension": ".py",
   "mimetype": "text/x-python",
   "name": "python",
   "nbconvert_exporter": "python",
   "pygments_lexer": "ipython3",
   "version": "3.6.0"
  }
 },
 "nbformat": 4,
 "nbformat_minor": 2
}
