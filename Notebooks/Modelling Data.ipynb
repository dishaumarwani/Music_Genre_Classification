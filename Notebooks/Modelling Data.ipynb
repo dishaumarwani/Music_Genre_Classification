{
 "cells": [
  {
   "cell_type": "code",
   "execution_count": 1,
   "metadata": {
    "collapsed": true
   },
   "outputs": [],
   "source": [
    "from __future__ import print_function\n",
    "import os\n",
    "data_path = ['../Data']"
   ]
  },
  {
   "cell_type": "code",
   "execution_count": 2,
   "metadata": {
    "collapsed": true
   },
   "outputs": [],
   "source": [
    "import pandas as pd\n",
    "import numpy as np\n",
    "from sklearn.metrics import accuracy_score\n",
    "import sklearn.utils, sklearn.preprocessing, sklearn.decomposition, sklearn.svm\n",
    "import utils"
   ]
  },
  {
   "cell_type": "code",
   "execution_count": 3,
   "metadata": {
    "collapsed": false
   },
   "outputs": [],
   "source": [
    "#split the data into test and train \n",
    "#use the file feature_engineered.csv\n",
    "from sklearn.model_selection import train_test_split\n",
    "filepath_feat_eng = os.sep.join(data_path + ['feature_engineered.csv'])\n",
    "feat_eng = pd.read_csv(filepath_feat_eng, header =0, index_col =[0])\n",
    "train,test = train_test_split(feat_eng,test_size = 0.3,random_state = 100)\n",
    "x_train = train.drop('genre', axis=1)\n",
    "y_train = train['genre']\n",
    "x_test = test.drop('genre', axis =1)\n",
    "y_test = test['genre']"
   ]
  },
  {
   "cell_type": "code",
   "execution_count": 4,
   "metadata": {
    "collapsed": false
   },
   "outputs": [
    {
     "data": {
      "text/html": [
       "<div>\n",
       "<style>\n",
       "    .dataframe thead tr:only-child th {\n",
       "        text-align: right;\n",
       "    }\n",
       "\n",
       "    .dataframe thead th {\n",
       "        text-align: left;\n",
       "    }\n",
       "\n",
       "    .dataframe tbody tr th {\n",
       "        vertical-align: top;\n",
       "    }\n",
       "</style>\n",
       "<table border=\"1\" class=\"dataframe\">\n",
       "  <thead>\n",
       "    <tr style=\"text-align: right;\">\n",
       "      <th></th>\n",
       "      <th>acousticness</th>\n",
       "      <th>danceability</th>\n",
       "      <th>energy</th>\n",
       "      <th>instrumentalness</th>\n",
       "      <th>liveness</th>\n",
       "      <th>speechiness</th>\n",
       "      <th>tempo</th>\n",
       "      <th>valence</th>\n",
       "      <th>genre</th>\n",
       "    </tr>\n",
       "    <tr>\n",
       "      <th>track_id</th>\n",
       "      <th></th>\n",
       "      <th></th>\n",
       "      <th></th>\n",
       "      <th></th>\n",
       "      <th></th>\n",
       "      <th></th>\n",
       "      <th></th>\n",
       "      <th></th>\n",
       "      <th></th>\n",
       "    </tr>\n",
       "  </thead>\n",
       "  <tbody>\n",
       "    <tr>\n",
       "      <th>2</th>\n",
       "      <td>-0.305190</td>\n",
       "      <td>1.081472</td>\n",
       "      <td>0.335174</td>\n",
       "      <td>-1.802354</td>\n",
       "      <td>-0.033418</td>\n",
       "      <td>0.547961</td>\n",
       "      <td>1.209559</td>\n",
       "      <td>0.520177</td>\n",
       "      <td>5</td>\n",
       "    </tr>\n",
       "    <tr>\n",
       "      <th>3</th>\n",
       "      <td>-0.414637</td>\n",
       "      <td>0.309857</td>\n",
       "      <td>0.981693</td>\n",
       "      <td>-1.826925</td>\n",
       "      <td>-0.555945</td>\n",
       "      <td>2.734133</td>\n",
       "      <td>0.105597</td>\n",
       "      <td>-0.594694</td>\n",
       "      <td>5</td>\n",
       "    </tr>\n",
       "    <tr>\n",
       "      <th>5</th>\n",
       "      <td>-1.271315</td>\n",
       "      <td>1.446562</td>\n",
       "      <td>0.571875</td>\n",
       "      <td>-1.830157</td>\n",
       "      <td>1.242922</td>\n",
       "      <td>0.261302</td>\n",
       "      <td>-0.650787</td>\n",
       "      <td>0.683372</td>\n",
       "      <td>5</td>\n",
       "    </tr>\n",
       "    <tr>\n",
       "      <th>10</th>\n",
       "      <td>1.080124</td>\n",
       "      <td>0.988641</td>\n",
       "      <td>1.359970</td>\n",
       "      <td>0.870650</td>\n",
       "      <td>-0.484161</td>\n",
       "      <td>-0.539885</td>\n",
       "      <td>-0.330577</td>\n",
       "      <td>1.923387</td>\n",
       "      <td>10</td>\n",
       "    </tr>\n",
       "    <tr>\n",
       "      <th>134</th>\n",
       "      <td>-0.213157</td>\n",
       "      <td>0.229133</td>\n",
       "      <td>0.073484</td>\n",
       "      <td>-1.777677</td>\n",
       "      <td>-0.626228</td>\n",
       "      <td>3.136317</td>\n",
       "      <td>-0.253287</td>\n",
       "      <td>1.671279</td>\n",
       "      <td>5</td>\n",
       "    </tr>\n",
       "  </tbody>\n",
       "</table>\n",
       "</div>"
      ],
      "text/plain": [
       "          acousticness  danceability    energy  instrumentalness  liveness  \\\n",
       "track_id                                                                     \n",
       "2            -0.305190      1.081472  0.335174         -1.802354 -0.033418   \n",
       "3            -0.414637      0.309857  0.981693         -1.826925 -0.555945   \n",
       "5            -1.271315      1.446562  0.571875         -1.830157  1.242922   \n",
       "10            1.080124      0.988641  1.359970          0.870650 -0.484161   \n",
       "134          -0.213157      0.229133  0.073484         -1.777677 -0.626228   \n",
       "\n",
       "          speechiness     tempo   valence  genre  \n",
       "track_id                                          \n",
       "2            0.547961  1.209559  0.520177      5  \n",
       "3            2.734133  0.105597 -0.594694      5  \n",
       "5            0.261302 -0.650787  0.683372      5  \n",
       "10          -0.539885 -0.330577  1.923387     10  \n",
       "134          3.136317 -0.253287  1.671279      5  "
      ]
     },
     "execution_count": 4,
     "metadata": {},
     "output_type": "execute_result"
    }
   ],
   "source": [
    "feat_eng.head()"
   ]
  },
  {
   "cell_type": "code",
   "execution_count": 5,
   "metadata": {
    "collapsed": false
   },
   "outputs": [
    {
     "data": {
      "text/plain": [
       "array([ 5, 10,  4,  8, 11,  2,  7,  0,  1,  9,  6,  3])"
      ]
     },
     "execution_count": 5,
     "metadata": {},
     "output_type": "execute_result"
    }
   ],
   "source": [
    "feat_eng.genre.unique()"
   ]
  },
  {
   "cell_type": "code",
   "execution_count": 13,
   "metadata": {
    "collapsed": false
   },
   "outputs": [
    {
     "name": "stdout",
     "output_type": "stream",
     "text": [
      "          acousticness  danceability    energy  instrumentalness  liveness  \\\n",
      "track_id                                                                     \n",
      "14803        -0.987414      0.775381 -0.792494          0.655185 -0.366001   \n",
      "48294         0.012895      0.715360  0.941187          0.099926 -0.800577   \n",
      "\n",
      "          speechiness     tempo   valence  \n",
      "track_id                                   \n",
      "14803       -0.542812  0.391383 -1.361277  \n",
      "48294       -0.471868 -0.653422  0.477427  \n",
      "          acousticness  danceability    energy  instrumentalness  liveness  \\\n",
      "track_id                                                                     \n",
      "879          -0.648865      0.106118  0.535015          0.571363 -0.792385   \n",
      "527           1.192089     -0.791674  0.860852          0.602686 -0.672309   \n",
      "\n",
      "          speechiness     tempo   valence  \n",
      "track_id                                   \n",
      "879          0.028630  1.495742 -0.253306  \n",
      "527         -0.315277  0.815232  1.803881  \n",
      "track_id\n",
      "14803    2\n",
      "48294    2\n",
      "Name: genre, dtype: int64\n",
      "track_id\n",
      "879     2\n",
      "527    11\n",
      "Name: genre, dtype: int64\n"
     ]
    }
   ],
   "source": [
    "print(x_train.head(2))\n",
    "print(x_test.head(2))\n",
    "print(y_train.head(2))\n",
    "print(y_test.head(2))"
   ]
  },
  {
   "cell_type": "code",
   "execution_count": 7,
   "metadata": {
    "collapsed": false
   },
   "outputs": [
    {
     "name": "stderr",
     "output_type": "stream",
     "text": [
      "/Users/dishaumarwani/anaconda/lib/python3.6/site-packages/sklearn/cross_validation.py:41: DeprecationWarning: This module was deprecated in version 0.18 in favor of the model_selection module into which all the refactored classes and functions are moved. Also note that the interface of the new CV iterators are different from that of this module. This module will be removed in 0.20.\n",
      "  \"This module will be removed in 0.20.\", DeprecationWarning)\n"
     ]
    }
   ],
   "source": [
    "from xgboost import XGBClassifier\n",
    "xgb = XGBClassifier()\n",
    "xgb.fit(x_train,y_train)\n",
    "y_predicted = xgb.predict(x_test)"
   ]
  },
  {
   "cell_type": "code",
   "execution_count": 8,
   "metadata": {
    "collapsed": false
   },
   "outputs": [
    {
     "name": "stdout",
     "output_type": "stream",
     "text": [
      "0.651585322408\n"
     ]
    }
   ],
   "source": [
    "accuracy_xgb = accuracy_score(y_test,y_predicted)\n",
    "print('The accuracy achieved with XGBClassifier is', accuracy_xgb)"
   ]
  },
  {
   "cell_type": "code",
   "execution_count": 9,
   "metadata": {
    "collapsed": false
   },
   "outputs": [
    {
     "name": "stdout",
     "output_type": "stream",
     "text": [
      "[[  0   0   1   0   9   1   0   0   0   0   0  11]\n",
      " [  0  59   0   0  19   0   0   0   1   5   0   7]\n",
      " [  0   3 417   0  17  25   0   0   1   1   1 198]\n",
      " [  0   0   0   0   1   1   0   0   0   0   0   4]\n",
      " [  0  14  14   0 104  11   0   0   2   2   2 123]\n",
      " [  0   0  56   0   1 163   0   0   0   0   0  40]\n",
      " [  0   0   8   0   2   1   0   0   1   0   0  15]\n",
      " [  0   0   4   0   6   2   0   3   0   0   1  20]\n",
      " [  0   6   9   0   9   5   0   0   1   0   0  42]\n",
      " [  0   5   1   0   2   0   0   2   0  98   0   1]\n",
      " [  0   0  22   0   9   5   0   0   2   0   0  65]\n",
      " [  0   2  82   0  47  27   0   1   1   2   0 984]]\n"
     ]
    },
    {
     "data": {
      "image/png": "[encoded data removed]",
      "text/plain": [
       "<matplotlib.figure.Figure at 0x1a09b7f160>"
      ]
     },
     "metadata": {},
     "output_type": "display_data"
    }
   ],
   "source": [
    "from sklearn.metrics import confusion_matrix\n",
    "import matplotlib.pyplot as plt\n",
    "cm = confusion_matrix(y_test, y_predicted)\n",
    "print(cm)\n",
    "\n",
    "# Show confusion matrix in a separate window\n",
    "plt.matshow(cm)\n",
    "plt.title('Confusion matrix')\n",
    "\n",
    "plt.colorbar()\n",
    "plt.ylabel('True label')\n",
    "plt.xlabel('Predicted label')\n",
    "plt.show()"
   ]
  },
  {
   "cell_type": "code",
   "execution_count": 10,
   "metadata": {
    "collapsed": false
   },
   "outputs": [
    {
     "name": "stdout",
     "output_type": "stream",
     "text": [
      "Confusion matrix, without normalization\n",
      "[[  0   0   1   0   9   1   0   0   0   0   0  11]\n",
      " [  0  59   0   0  19   0   0   0   1   5   0   7]\n",
      " [  0   3 417   0  17  25   0   0   1   1   1 198]\n",
      " [  0   0   0   0   1   1   0   0   0   0   0   4]\n",
      " [  0  14  14   0 104  11   0   0   2   2   2 123]\n",
      " [  0   0  56   0   1 163   0   0   0   0   0  40]\n",
      " [  0   0   8   0   2   1   0   0   1   0   0  15]\n",
      " [  0   0   4   0   6   2   0   3   0   0   1  20]\n",
      " [  0   6   9   0   9   5   0   0   1   0   0  42]\n",
      " [  0   5   1   0   2   0   0   2   0  98   0   1]\n",
      " [  0   0  22   0   9   5   0   0   2   0   0  65]\n",
      " [  0   2  82   0  47  27   0   1   1   2   0 984]]\n"
     ]
    },
    {
     "data": {
      "image/png": "[encoded data removed]",
      "text/plain": [
       "<matplotlib.figure.Figure at 0x1a122cf908>"
      ]
     },
     "metadata": {},
     "output_type": "display_data"
    }
   ],
   "source": [
    "import itertools\n",
    "from sklearn.metrics import confusion_matrix\n",
    "\n",
    "def plot_confusion_matrix(cm, classes,\n",
    "                          normalize=False,\n",
    "                          title='Confusion matrix',\n",
    "                          cmap=plt.cm.Blues):\n",
    "    \"\"\"\n",
    "    This function prints and plots the confusion matrix.\n",
    "    Normalization can be applied by setting `normalize=True`.\n",
    "    \"\"\"\n",
    "    if normalize:\n",
    "        cm = cm.astype('float') / cm.sum(axis=1)[:, np.newaxis]\n",
    "        print(\"Normalized confusion matrix\")\n",
    "    else:\n",
    "        print('Confusion matrix, without normalization')\n",
    "\n",
    "    print(cm)\n",
    "\n",
    "    plt.imshow(cm, interpolation='nearest', cmap=cmap)\n",
    "    plt.title(title)\n",
    "    plt.colorbar()\n",
    "    tick_marks = np.arange(len(classes))\n",
    "    plt.xticks(tick_marks, classes, rotation=45)\n",
    "    plt.yticks(tick_marks, classes)\n",
    "\n",
    "    fmt = '.2f' if normalize else 'd'\n",
    "    thresh = cm.max() / 2.\n",
    "    for i, j in itertools.product(range(cm.shape[0]), range(cm.shape[1])):\n",
    "        plt.text(j, i, format(cm[i, j], fmt),\n",
    "                 horizontalalignment=\"center\",\n",
    "                 color=\"white\" if cm[i, j] > thresh else \"black\")\n",
    "\n",
    "    \n",
    "    plt.ylabel('True label')\n",
    "    plt.xlabel('Predicted label')\n",
    "\n",
    "# Compute confusion matrix\n",
    "cnf_matrix = confusion_matrix(y_test, y_predicted)\n",
    "np.set_printoptions(precision=2)\n",
    "\n",
    "class_names = feat_eng.genre.unique()\n",
    "\n",
    "# Plot non-normalized confusion matrix\n",
    "\n",
    "plt.figure()\n",
    "plot_confusion_matrix(cnf_matrix, classes=class_names,\n",
    "                      title='Confusion Matrix')\n",
    "\n",
    "# Plot normalized confusion matrix\n",
    "#plt.figure()\n",
    "#plot_confusion_matrix(cnf_matrix, classes=class_names, normalize=True,\n",
    "                    #  title='Normalized confusion matrix')\n",
    "\n",
    "plt.show()"
   ]
  },
  {
   "cell_type": "code",
   "execution_count": 11,
   "metadata": {
    "collapsed": false
   },
   "outputs": [
    {
     "name": "stdout",
     "output_type": "stream",
     "text": [
      "0.596366227289\n"
     ]
    }
   ],
   "source": [
    "#import statement\n",
    "from sklearn.linear_model import LogisticRegression\n",
    "clf_LogReg = LogisticRegression(C = 1e30)\n",
    "clf_LogReg.fit(x_train, y_train)\n",
    "y_predicted = clf_LogReg.predict(x_test)\n",
    "accuracy_lg = accuracy_score(y_test,y_predicted)\n",
    "print(accuracy_lg)"
   ]
  },
  {
   "cell_type": "code",
   "execution_count": 12,
   "metadata": {
    "collapsed": false
   },
   "outputs": [
    {
     "name": "stdout",
     "output_type": "stream",
     "text": [
      "0.612753829711\n"
     ]
    }
   ],
   "source": [
    "clf_SVC = SVC(kernel = \"linear\", probability = True)\n",
    "clf_SVC.fit(x_train, y_train)\n",
    "y_predicted = clf_SVC.predict(x_test)\n",
    "accuracy_svc = accuracy_score(y_test,y_predicted)\n",
    "print(accuracy_svc)"
   ]
  },
  {
   "cell_type": "code",
   "execution_count": 20,
   "metadata": {
    "collapsed": false
   },
   "outputs": [
    {
     "name": "stdout",
     "output_type": "stream",
     "text": [
      "0.642322764517\n"
     ]
    }
   ],
   "source": [
    "clf_SVC = SVC(kernel='rbf')\n",
    "clf_SVC.fit(x_train, y_train)\n",
    "y_predicted = clf_SVC.predict(x_test)\n",
    "accuracy_svc = accuracy_score(y_test,y_predicted)\n",
    "print(accuracy_svc)"
   ]
  },
  {
   "cell_type": "code",
   "execution_count": 21,
   "metadata": {
    "collapsed": false
   },
   "outputs": [
    {
     "name": "stdout",
     "output_type": "stream",
     "text": [
      "0.62023512647\n"
     ]
    }
   ],
   "source": [
    "clf_SVC = SVC(kernel='poly', degree=3, C=1.0)\n",
    "clf_SVC.fit(x_train, y_train)\n",
    "y_predicted = clf_SVC.predict(x_test)\n",
    "accuracy_svc = accuracy_score(y_test,y_predicted)\n",
    "print(accuracy_svc)"
   ]
  },
  {
   "cell_type": "code",
   "execution_count": null,
   "metadata": {
    "collapsed": true
   },
   "outputs": [],
   "source": []
  }
 ],
 "metadata": {
  "kernelspec": {
   "display_name": "Python 3",
   "language": "python",
   "name": "python3"
  },
  "language_info": {
   "codemirror_mode": {
    "name": "ipython",
    "version": 3
   },
   "file_extension": ".py",
   "mimetype": "text/x-python",
   "name": "python",
   "nbconvert_exporter": "python",
   "pygments_lexer": "ipython3",
   "version": "3.6.0"
  }
 },
 "nbformat": 4,
 "nbformat_minor": 2
}
